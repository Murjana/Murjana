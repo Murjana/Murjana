{
  "nbformat": 4,
  "nbformat_minor": 0,
  "metadata": {
    "colab": {
      "provenance": [],
      "include_colab_link": true
    },
    "kernelspec": {
      "name": "python3",
      "display_name": "Python 3"
    }
  },
  "cells": [
    {
      "cell_type": "markdown",
      "metadata": {
        "id": "view-in-github",
        "colab_type": "text"
      },
      "source": [
        "<a href=\"https://colab.research.google.com/github/Murjana/Murjana/blob/main/Session_3_Homework_Assignment.ipynb\" target=\"_parent\"><img src=\"https://colab.research.google.com/assets/colab-badge.svg\" alt=\"Open In Colab\"/></a>"
      ]
    },
    {
      "cell_type": "markdown",
      "metadata": {
        "id": "zfY7LFjFlcZv"
      },
      "source": [
        "# Python Session #3: Data Summary / Satistics - Homework Assignment"
      ]
    },
    {
      "cell_type": "markdown",
      "source": [
        "\n",
        "## Lecture Structure:\n",
        "\n",
        "1. Measure of central tendency\n",
        "\n",
        "- Mean\n",
        "- Median\n",
        "- Mode\n",
        "\n",
        "2. Measure of spread\n",
        "\n",
        "- Range\n",
        "- Standard Deviation\n",
        "- Variance\n",
        "\n",
        "3. Correlation coeffcient\n",
        "\n",
        "## We will use:\n",
        "- `statistics.mean()`,\n",
        "`statistics.median()`,\n",
        "`statistics.mean()`,\n",
        "`groupby.mean()`,\n",
        "`groupby.median()`,\n",
        "`gmean()`,\n",
        "`statistics.stdev()`,\n",
        "`statistics.variance()`,\n",
        "`corr()`,\n",
        "`numpy.corrcoef()`"
      ],
      "metadata": {
        "id": "0_FNYSHmkCkK"
      }
    },
    {
      "cell_type": "code",
      "metadata": {
        "id": "jYijDuuObu_5"
      },
      "source": [
        "### Importing libraries and packages\n",
        "import pandas as pd\n",
        "import numpy as np\n",
        "import statistics as st\n",
        "import seaborn as sns\n",
        "import matplotlib.pyplot as plt"
      ],
      "execution_count": null,
      "outputs": []
    },
    {
      "cell_type": "code",
      "metadata": {
        "id": "mrtbg_VhjZcy"
      },
      "source": [
        "### Reading data\n",
        "\n",
        "cars = pd.read_csv(\"https://raw.githubusercontent.com/juliandnl/redi_ss20/master/cars.csv\")  # cars dataset\n",
        "olist = pd.read_csv(\"https://raw.githubusercontent.com/Kartthik-Rathinakumar/ReDI/main/Olist.csv\")  # Olist - new dataset\n",
        "rentals = pd.read_csv(\"https://raw.githubusercontent.com/juliandnl/redi_ss20/master/berlin_rental.csv\")"
      ],
      "execution_count": null,
      "outputs": []
    },
    {
      "cell_type": "markdown",
      "source": [
        "\n",
        "## **Question #1 : Rentals dataset**\n",
        "\n",
        "For the rentals dataset, identify:\n",
        "\n",
        "1. Dependent variable\n",
        "\n",
        "2. Indpendent variable(s)\n",
        "\n",
        "3. Statistically prove their relation, use the help of visual diagram whenever necessary."
      ],
      "metadata": {
        "id": "F_dttyWL4CQv"
      }
    },
    {
      "cell_type": "code",
      "source": [
        "### Answer #1.1\n"
      ],
      "metadata": {
        "id": "XnGZ4oGB6hpO"
      },
      "execution_count": null,
      "outputs": []
    },
    {
      "cell_type": "code",
      "source": [
        "### Answer #1.2"
      ],
      "metadata": {
        "id": "Xaoe7AkiL4bn"
      },
      "execution_count": null,
      "outputs": []
    },
    {
      "cell_type": "code",
      "source": [
        "### Answer #1.3"
      ],
      "metadata": {
        "id": "7uCuCEsTL4Qm"
      },
      "execution_count": null,
      "outputs": []
    },
    {
      "cell_type": "markdown",
      "source": [
        "## **Question #2 : rentals dataset**\n",
        "\n",
        "Identify the best region to live, based on:\n",
        "\n",
        "1. Average Price\n",
        "\n",
        "2. Average Rooms Available\n",
        "\n",
        "3. Average Space\n",
        "\n",
        "4. What type of apartment condition is mostly available in Mitte, Kruezberg and Wilmersforf respectively?"
      ],
      "metadata": {
        "id": "i0PGXquo7Fp5"
      }
    },
    {
      "cell_type": "code",
      "source": [
        "### Identify the best region to live, based on: Average Price\n"
      ],
      "metadata": {
        "id": "PXkI6rRl7BmC"
      },
      "execution_count": null,
      "outputs": []
    },
    {
      "cell_type": "code",
      "source": [
        "### Identify the best region to live, based on: Average Rooms Available\n"
      ],
      "metadata": {
        "id": "d4lOR_4b-iBp"
      },
      "execution_count": null,
      "outputs": []
    },
    {
      "cell_type": "code",
      "source": [
        "### Identify the best region to live, based on: Average Space\n"
      ],
      "metadata": {
        "id": "a0SONceOAbaT"
      },
      "execution_count": null,
      "outputs": []
    },
    {
      "cell_type": "code",
      "source": [
        "### What type of apartment condition is mostly available in Mitte, Kruezberg and Wedding respectively?\n"
      ],
      "metadata": {
        "id": "tcVrUdrVBajj"
      },
      "execution_count": null,
      "outputs": []
    },
    {
      "cell_type": "markdown",
      "source": [
        "## **Question #3 : rentals dataset**\n",
        "\n",
        "1. In what location are both the mean and median are same in terms of apartment Space?\n",
        "2. Identify the location where the apartment rent variation is the highest\n",
        "3. What is the average price of 2 room apartment in Mitte?"
      ],
      "metadata": {
        "id": "SaeAvaCGL_t_"
      }
    },
    {
      "cell_type": "code",
      "source": [
        "### In what location are both the mean and median are same in terms of apartment Space?\n"
      ],
      "metadata": {
        "id": "9mGR23bWHWYY"
      },
      "execution_count": null,
      "outputs": []
    },
    {
      "cell_type": "code",
      "source": [
        "### Identify the location where the apartment rent variation is very the highest\n"
      ],
      "metadata": {
        "id": "d_ZmL5dBHxFx"
      },
      "execution_count": null,
      "outputs": []
    },
    {
      "cell_type": "code",
      "source": [
        "### What is the average price of 2 room apartment in Mitte?\n"
      ],
      "metadata": {
        "id": "7yYaVCsRIQ4t"
      },
      "execution_count": null,
      "outputs": []
    },
    {
      "cell_type": "markdown",
      "source": [
        "## **Question #4 : Apartments dataset**\n",
        "\n",
        "Identify an outlier from the Apartments dataset. Statistically show the difference in central tendency with and without those outliers.\n",
        "\n"
      ],
      "metadata": {
        "id": "au1GWqsUfvbk"
      }
    },
    {
      "cell_type": "markdown",
      "source": [
        "**Hint**\n",
        "\n",
        "Identify the outliers visually with a plot."
      ],
      "metadata": {
        "id": "_NKlrOpHKRPM"
      }
    },
    {
      "cell_type": "code",
      "source": [
        "#Answer\n"
      ],
      "metadata": {
        "id": "pQeUeQxsiiDD"
      },
      "execution_count": null,
      "outputs": []
    },
    {
      "cell_type": "markdown",
      "metadata": {
        "id": "MJdkMmVDBj_D"
      },
      "source": [
        "## **EXTRA MATERIAL**"
      ]
    },
    {
      "cell_type": "markdown",
      "metadata": {
        "id": "Q0HdDyPIANBY"
      },
      "source": [
        "**Using groupby with different functions for different columns**\n",
        "\n",
        "The `.agg()` method also allows you to apply different functions to different columns. It's done by using a dictionary where the columns selected are the keys, and the functions you want to apply to each columns are the values. There is no need to select the columns before applying `.agg()` in this case, as the columns are selected inside the dictionary."
      ]
    },
    {
      "cell_type": "markdown",
      "metadata": {
        "id": "akGU0y1A_VsW"
      },
      "source": [
        "**Useful aggregation functions:**\n",
        "- `mean()`\n",
        "- `median()`\n",
        "- `var()`\n",
        "- `std()`\n",
        "- `min()`\n",
        "- `max()`\n",
        "- `count()`\n",
        "- `sum()`\n",
        "- `nunique()`"
      ]
    },
    {
      "cell_type": "markdown",
      "metadata": {
        "id": "OZY8d3lrmip3"
      },
      "source": [
        "**Bonus question #1:**"
      ]
    },
    {
      "cell_type": "markdown",
      "metadata": {
        "id": "na6fCqDImupY"
      },
      "source": [
        "Revisit the `describe()` method from session #1. Study the output of the describe method, draw a simple barplot or any visual diagram for the dataset and check your understanding about the dataset."
      ]
    },
    {
      "cell_type": "code",
      "metadata": {
        "id": "YO-omnj_nuxz"
      },
      "source": [
        "### Bonus question #1:\n"
      ],
      "execution_count": null,
      "outputs": []
    },
    {
      "cell_type": "markdown",
      "metadata": {
        "id": "wVfFJAOVqD5o"
      },
      "source": [
        "**Bonus question #2:**\n",
        "\n",
        "Below mentioned are the points for 2 teams who participated in a Premiere league football batch. When a team wins a match, they get **3** points, if they lose the match then they get **0** points and if the match is draw then they get **1** point.\n",
        "\n",
        "Study the data and share your understanding, mainly\n",
        "\n",
        "According to you, Which team has performed better, why?\n",
        "\n",
        "Team A : { 3,1,3,1,3,1,0,1,0,1,0,0,1,3,3,1,1,3,1,0 }\n",
        "\n",
        "Team B : { 3,1,3,1,3,0,0,0,0,0,0,0,1,3,3,1,1,3,1,3 }"
      ]
    },
    {
      "cell_type": "code",
      "metadata": {
        "id": "VpiAjHyvqQBb"
      },
      "source": [
        "### Bonus question #2:\n"
      ],
      "execution_count": null,
      "outputs": []
    },
    {
      "cell_type": "markdown",
      "source": [
        "**Bonus question #3:**\n",
        "\n",
        "Based on the available cars data, Check whether the below hypothesis are valid.\n",
        "\n",
        "\n",
        "1) If the doors are more, then the price of the car is high\n",
        "\n",
        "2) If the price of the car is high, then the usage of the car is high ( Kms)\n"
      ],
      "metadata": {
        "id": "ZcF-a4kdaH52"
      }
    },
    {
      "cell_type": "code",
      "source": [
        "### Bonus question #3:\n"
      ],
      "metadata": {
        "id": "b5A8ika1ihHH"
      },
      "execution_count": null,
      "outputs": []
    }
  ]
}